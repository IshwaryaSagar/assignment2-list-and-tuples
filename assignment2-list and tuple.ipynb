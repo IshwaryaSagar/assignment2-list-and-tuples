{
 "cells": [
  {
   "cell_type": "code",
   "execution_count": 8,
   "id": "0a58ba05",
   "metadata": {},
   "outputs": [
    {
     "name": "stdout",
     "output_type": "stream",
     "text": [
      "[(2, 1), (1, 2), (2, 3), (4, 4), (2, 5)]\n"
     ]
    }
   ],
   "source": [
    "def x(n): return n[-1]\n",
    "\n",
    "def y(tuples):\n",
    "    return sorted (tuples, key=x)\n",
    "\n",
    "print(y([(2,5),(1,2),(4,4),(2,3),(2,1)]))"
   ]
  },
  {
   "cell_type": "code",
   "execution_count": null,
   "id": "16456ae5",
   "metadata": {},
   "outputs": [],
   "source": []
  }
 ],
 "metadata": {
  "kernelspec": {
   "display_name": "Python 3 (ipykernel)",
   "language": "python",
   "name": "python3"
  },
  "language_info": {
   "codemirror_mode": {
    "name": "ipython",
    "version": 3
   },
   "file_extension": ".py",
   "mimetype": "text/x-python",
   "name": "python",
   "nbconvert_exporter": "python",
   "pygments_lexer": "ipython3",
   "version": "3.9.7"
  }
 },
 "nbformat": 4,
 "nbformat_minor": 5
}
